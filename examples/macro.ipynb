{
 "cells": [
  {
   "cell_type": "markdown",
   "metadata": {},
   "source": [
    "# The macroscopic current in response to a concentration jump or pulse"
   ]
  },
  {
   "cell_type": "code",
   "execution_count": 1,
   "metadata": {},
   "outputs": [],
   "source": [
    "import numpy as np\n",
    "from numpy import linalg as nplin\n",
    "\n",
    "%matplotlib inline\n",
    "import matplotlib.pyplot as plt"
   ]
  },
  {
   "cell_type": "code",
   "execution_count": 2,
   "metadata": {},
   "outputs": [],
   "source": [
    "np.set_printoptions(precision=6)\n",
    "np.set_printoptions(suppress=True)"
   ]
  },
  {
   "cell_type": "markdown",
   "metadata": {},
   "source": [
    "### The 5 state model used in CH82 for numerical example"
   ]
  },
  {
   "cell_type": "markdown",
   "metadata": {},
   "source": [
    "Names of subsets: A- open states, F- shut states, B- short-lived shut states (within burst), C- long-lived states"
   ]
  },
  {
   "cell_type": "markdown",
   "metadata": {},
   "source": [
    "##### Number of states:"
   ]
  },
  {
   "cell_type": "code",
   "execution_count": 3,
   "metadata": {},
   "outputs": [],
   "source": [
    "k, kA, kB, kC, kF = 5, 2, 2, 1, 3"
   ]
  },
  {
   "cell_type": "markdown",
   "metadata": {},
   "source": [
    "###### Values for rate constants:"
   ]
  },
  {
   "cell_type": "markdown",
   "metadata": {},
   "source": [
    "Gating:"
   ]
  },
  {
   "cell_type": "code",
   "execution_count": 4,
   "metadata": {},
   "outputs": [],
   "source": [
    "b1, a1, b2, a2 = 15., 3000., 15000., 500."
   ]
  },
  {
   "cell_type": "markdown",
   "metadata": {},
   "source": [
    "Binding:"
   ]
  },
  {
   "cell_type": "code",
   "execution_count": 5,
   "metadata": {},
   "outputs": [],
   "source": [
    "kd1, ka1, kd2, ka2, ka2x = 2000., 5e7, 2000., 5e8, 5e8"
   ]
  },
  {
   "cell_type": "markdown",
   "metadata": {},
   "source": [
    "Get dissociation rate from open state by microscopic reversibility"
   ]
  },
  {
   "cell_type": "code",
   "execution_count": 6,
   "metadata": {},
   "outputs": [],
   "source": [
    "kd2x = (ka2x * a2 * kd2 * b1) / (b2 * ka2 * a1)"
   ]
  },
  {
   "cell_type": "code",
   "execution_count": 7,
   "metadata": {},
   "outputs": [
    {
     "data": {
      "text/plain": [
       "0.3333333333333333"
      ]
     },
     "execution_count": 7,
     "metadata": {},
     "output_type": "execute_result"
    }
   ],
   "source": [
    "kd2x"
   ]
  },
  {
   "cell_type": "markdown",
   "metadata": {},
   "source": [
    "Define concentration (eg 10 microM)"
   ]
  },
  {
   "cell_type": "code",
   "execution_count": 8,
   "metadata": {},
   "outputs": [],
   "source": [
    "c = 10e-6"
   ]
  },
  {
   "cell_type": "markdown",
   "metadata": {},
   "source": [
    "Define Q matrix:"
   ]
  },
  {
   "cell_type": "code",
   "execution_count": 9,
   "metadata": {},
   "outputs": [],
   "source": [
    "def Qmat(c):\n",
    "    return np.array([[ -(ka2x*c + a1),         ka2x*c,              0,                  a1,           0 ], \n",
    "                     [      2. * kd2x, -(2*kd2x + a2),             a2,                   0,           0 ],  \n",
    "                     [              0,             b2, -(b2 + 2.*kd2),              2.*kd2,           0 ],  \n",
    "                     [             b1,              0,          ka2*c, -(b1 + ka2*c + kd1),         kd1 ],  \n",
    "                     [              0,              0,              0,            2.*ka1*c, -(2.*ka1*c) ] ])"
   ]
  },
  {
   "cell_type": "code",
   "execution_count": 10,
   "metadata": {},
   "outputs": [],
   "source": [
    "Q = Qmat(c)"
   ]
  },
  {
   "cell_type": "code",
   "execution_count": 11,
   "metadata": {},
   "outputs": [
    {
     "data": {
      "text/plain": [
       "array([[ -8000.      ,   5000.      ,      0.      ,   3000.      ,\n",
       "             0.      ],\n",
       "       [     0.666667,   -500.666667,    500.      ,      0.      ,\n",
       "             0.      ],\n",
       "       [     0.      ,  15000.      , -19000.      ,   4000.      ,\n",
       "             0.      ],\n",
       "       [    15.      ,      0.      ,   5000.      ,  -7015.      ,\n",
       "          2000.      ],\n",
       "       [     0.      ,      0.      ,      0.      ,   1000.      ,\n",
       "         -1000.      ]])"
      ]
     },
     "execution_count": 11,
     "metadata": {},
     "output_type": "execute_result"
    }
   ],
   "source": [
    "Q"
   ]
  },
  {
   "cell_type": "markdown",
   "metadata": {},
   "source": [
    "Define some useful unit column vectors:"
   ]
  },
  {
   "cell_type": "code",
   "execution_count": 12,
   "metadata": {},
   "outputs": [],
   "source": [
    "u, uA, uF = np.ones((k,1)), np.ones((kA,1)), np.ones((kF,1)) "
   ]
  },
  {
   "cell_type": "markdown",
   "metadata": {},
   "source": [
    "Q rows sum to zero"
   ]
  },
  {
   "cell_type": "code",
   "execution_count": 13,
   "metadata": {},
   "outputs": [
    {
     "data": {
      "text/plain": [
       "array([[0.],\n",
       "       [0.],\n",
       "       [0.],\n",
       "       [0.],\n",
       "       [0.]])"
      ]
     },
     "execution_count": 13,
     "metadata": {},
     "output_type": "execute_result"
    }
   ],
   "source": [
    "np.dot(Q, u)"
   ]
  },
  {
   "cell_type": "markdown",
   "metadata": {},
   "source": [
    "One eigenvalue of Q is zero"
   ]
  },
  {
   "cell_type": "code",
   "execution_count": 14,
   "metadata": {},
   "outputs": [],
   "source": [
    "eigvals, M = nplin.eig(Q)"
   ]
  },
  {
   "cell_type": "code",
   "execution_count": 15,
   "metadata": {},
   "outputs": [
    {
     "data": {
      "text/plain": [
       "array([-20827.987156,  -8017.886104,  -6001.630678,      0.      ,\n",
       "         -668.162729])"
      ]
     },
     "execution_count": 15,
     "metadata": {},
     "output_type": "execute_result"
    }
   ],
   "source": [
    "eigvals"
   ]
  },
  {
   "cell_type": "markdown",
   "metadata": {},
   "source": [
    "## Calculation of equilibrium occupancies"
   ]
  },
  {
   "cell_type": "markdown",
   "metadata": {},
   "source": [
    "$\\textbf{p}(t)=[p_1(t), p_2(t), ..., p_k(t)]$"
   ]
  },
  {
   "cell_type": "markdown",
   "metadata": {},
   "source": [
    "$\\dfrac{d}{dt}p(t)=p(t) \\cdot Q$"
   ]
  },
  {
   "cell_type": "markdown",
   "metadata": {},
   "source": [
    "In the steady state occupancies do not change with time then"
   ]
  },
  {
   "cell_type": "markdown",
   "metadata": {},
   "source": [
    "$0=p(\\infty) \\cdot Q$"
   ]
  },
  {
   "cell_type": "markdown",
   "metadata": {},
   "source": [
    "##### Solution by adding a column of ones"
   ]
  },
  {
   "cell_type": "code",
   "execution_count": 16,
   "metadata": {},
   "outputs": [],
   "source": [
    "S = np.concatenate((Q, u), 1)"
   ]
  },
  {
   "cell_type": "code",
   "execution_count": 17,
   "metadata": {},
   "outputs": [
    {
     "data": {
      "text/plain": [
       "array([[ -8000.      ,   5000.      ,      0.      ,   3000.      ,\n",
       "             0.      ,      1.      ],\n",
       "       [     0.666667,   -500.666667,    500.      ,      0.      ,\n",
       "             0.      ,      1.      ],\n",
       "       [     0.      ,  15000.      , -19000.      ,   4000.      ,\n",
       "             0.      ,      1.      ],\n",
       "       [    15.      ,      0.      ,   5000.      ,  -7015.      ,\n",
       "          2000.      ,      1.      ],\n",
       "       [     0.      ,      0.      ,      0.      ,   1000.      ,\n",
       "         -1000.      ,      1.      ]])"
      ]
     },
     "execution_count": 17,
     "metadata": {},
     "output_type": "execute_result"
    }
   ],
   "source": [
    "S"
   ]
  },
  {
   "cell_type": "markdown",
   "metadata": {},
   "source": [
    "$p(\\infty)=u^T \\cdot (S \\cdot S^T)^{-1}$"
   ]
  },
  {
   "cell_type": "code",
   "execution_count": 18,
   "metadata": {},
   "outputs": [],
   "source": [
    "pinf = np.dot(u.transpose(), nplin.inv((np.dot(S,S.transpose()))))[0]"
   ]
  },
  {
   "cell_type": "code",
   "execution_count": 19,
   "metadata": {},
   "outputs": [
    {
     "data": {
      "text/plain": [
       "array([0.00012 , 0.898096, 0.029937, 0.023949, 0.047898])"
      ]
     },
     "execution_count": 19,
     "metadata": {},
     "output_type": "execute_result"
    }
   ],
   "source": [
    "pinf"
   ]
  },
  {
   "cell_type": "markdown",
   "metadata": {},
   "source": [
    "## The macroscopic response to a jump in concentration"
   ]
  },
  {
   "cell_type": "markdown",
   "metadata": {},
   "source": [
    "The basic result is   $p(t)=p(0) \\cdot e^{Q \\cdot t}$"
   ]
  },
  {
   "cell_type": "markdown",
   "metadata": {},
   "source": [
    "###### Spectral expansion"
   ]
  },
  {
   "cell_type": "markdown",
   "metadata": {},
   "source": [
    "To evaluate the matrix exponential we use the spectral expansion."
   ]
  },
  {
   "cell_type": "markdown",
   "metadata": {},
   "source": [
    "The easy bit is the time constants. Get eigenvalues and eigenvectors of $-Q$:"
   ]
  },
  {
   "cell_type": "code",
   "execution_count": 20,
   "metadata": {},
   "outputs": [],
   "source": [
    "eigvals, M = nplin.eig(-Q)\n",
    "sorted_indices = eigvals.real.argsort()\n",
    "eigvals = eigvals[sorted_indices]\n",
    "M = M[:,sorted_indices]"
   ]
  },
  {
   "cell_type": "code",
   "execution_count": 21,
   "metadata": {},
   "outputs": [],
   "source": [
    "tau = 1000 / eigvals # time constants in milliseconds"
   ]
  },
  {
   "cell_type": "code",
   "execution_count": 22,
   "metadata": {},
   "outputs": [
    {
     "data": {
      "text/plain": [
       "array([-9.311898e+14,  1.496641e+00,  1.666214e-01,  1.247212e-01,\n",
       "        4.801232e-02])"
      ]
     },
     "execution_count": 22,
     "metadata": {},
     "output_type": "execute_result"
    }
   ],
   "source": [
    "tau"
   ]
  },
  {
   "cell_type": "markdown",
   "metadata": {},
   "source": [
    "Note that 'zero' eigenvalue is not excatly zero because of rounding errors in the calculations, but the corresponding time constant is"
   ]
  },
  {
   "cell_type": "code",
   "execution_count": 23,
   "metadata": {},
   "outputs": [
    {
     "data": {
      "text/plain": [
       "-29527.834109858235"
      ]
     },
     "execution_count": 23,
     "metadata": {},
     "output_type": "execute_result"
    }
   ],
   "source": [
    "tau[0] / (1000 * 60 * 60 * 24 * 365) # time constant in years!"
   ]
  },
  {
   "cell_type": "markdown",
   "metadata": {},
   "source": [
    "No calculate the spectral expansion matrices, $A_m$, by multiplying m-th column of $M$ by m-th row of $N=M^{-1}$.\n",
    "The m-th column of $M$ (the m-th column eigenvector) is denoted in Numpy as M[:, m].\n",
    "The m-th row of $N$ (the m-th row eigenvector) is denoted in Numpy as N[m, :].\n",
    "All column eigenvectors can be found as the columns of a matrix $M$ found earlier. Eg first column vector:"
   ]
  },
  {
   "cell_type": "code",
   "execution_count": 24,
   "metadata": {},
   "outputs": [
    {
     "data": {
      "text/plain": [
       "array([-0.447214, -0.447214, -0.447214, -0.447214, -0.447214])"
      ]
     },
     "execution_count": 24,
     "metadata": {},
     "output_type": "execute_result"
    }
   ],
   "source": [
    "M[:, 0]"
   ]
  },
  {
   "cell_type": "code",
   "execution_count": 25,
   "metadata": {},
   "outputs": [],
   "source": [
    "N = nplin.inv(M)"
   ]
  },
  {
   "cell_type": "code",
   "execution_count": 26,
   "metadata": {},
   "outputs": [],
   "source": [
    "A = np.zeros((k, k, k))\n",
    "for i in range(k):\n",
    "        A[i] = np.dot(M[:, i].reshape(k, 1), N[i].reshape(1, k))\n",
    "#A = A[sorted_indices]"
   ]
  },
  {
   "cell_type": "markdown",
   "metadata": {},
   "source": [
    "Do some checks. The spectral matrices add up to unit matrix."
   ]
  },
  {
   "cell_type": "code",
   "execution_count": 27,
   "metadata": {},
   "outputs": [
    {
     "data": {
      "text/plain": [
       "array([[ 1., -0.,  0., -0., -0.],\n",
       "       [ 0.,  1., -0., -0., -0.],\n",
       "       [-0., -0.,  1., -0., -0.],\n",
       "       [-0., -0.,  0.,  1., -0.],\n",
       "       [ 0., -0.,  0.,  0.,  1.]])"
      ]
     },
     "execution_count": 27,
     "metadata": {},
     "output_type": "execute_result"
    }
   ],
   "source": [
    "A.sum(axis=0)"
   ]
  },
  {
   "cell_type": "markdown",
   "metadata": {},
   "source": [
    "Product of two different spectral matrices equals = 0, eg $A_0 \\cdot A_1=0$"
   ]
  },
  {
   "cell_type": "code",
   "execution_count": 28,
   "metadata": {},
   "outputs": [
    {
     "data": {
      "text/plain": [
       "array([[-0.,  0., -0., -0., -0.],\n",
       "       [-0.,  0., -0., -0., -0.],\n",
       "       [-0.,  0., -0., -0., -0.],\n",
       "       [-0.,  0., -0., -0., -0.],\n",
       "       [-0.,  0., -0., -0., -0.]])"
      ]
     },
     "execution_count": 28,
     "metadata": {},
     "output_type": "execute_result"
    }
   ],
   "source": [
    "np.dot(A[0], A[1])"
   ]
  },
  {
   "cell_type": "code",
   "execution_count": 29,
   "metadata": {},
   "outputs": [
    {
     "data": {
      "text/plain": [
       "array([[0.00012 , 0.898096, 0.029937, 0.023949, 0.047898],\n",
       "       [0.00012 , 0.898096, 0.029937, 0.023949, 0.047898],\n",
       "       [0.00012 , 0.898096, 0.029937, 0.023949, 0.047898],\n",
       "       [0.00012 , 0.898096, 0.029937, 0.023949, 0.047898],\n",
       "       [0.00012 , 0.898096, 0.029937, 0.023949, 0.047898]])"
      ]
     },
     "execution_count": 29,
     "metadata": {},
     "output_type": "execute_result"
    }
   ],
   "source": [
    "A[0]"
   ]
  },
  {
   "cell_type": "markdown",
   "metadata": {},
   "source": [
    "Compare spectral matrix $A_0$, corresponding to zero eigenvalue, with the equilibrium occupancies found above."
   ]
  },
  {
   "cell_type": "code",
   "execution_count": 30,
   "metadata": {},
   "outputs": [
    {
     "data": {
      "text/plain": [
       "array([0.00012 , 0.898096, 0.029937, 0.023949, 0.047898])"
      ]
     },
     "execution_count": 30,
     "metadata": {},
     "output_type": "execute_result"
    }
   ],
   "source": [
    "pinf"
   ]
  },
  {
   "cell_type": "markdown",
   "metadata": {},
   "source": [
    "Each column of $A_0$ consists of identical elements, the m-th column being the equilibrium occupancy of state m. This means that premultiplication of $A_0$ by any vector whose elements dum to 1 gives $p(\\infty)$.\n",
    "We can now use this to evaluate $p(t)=p(0) \\cdot e^{Q \\cdot t}$"
   ]
  },
  {
   "cell_type": "markdown",
   "metadata": {},
   "source": [
    "##### Define the initial vector"
   ]
  },
  {
   "cell_type": "markdown",
   "metadata": {},
   "source": [
    "If we consider a jump from zero concentration to concentration c, the receptor is initially all in state 5"
   ]
  },
  {
   "cell_type": "code",
   "execution_count": 31,
   "metadata": {},
   "outputs": [],
   "source": [
    "p0 = [0., 0., 0., 0., 1.]"
   ]
  },
  {
   "cell_type": "markdown",
   "metadata": {},
   "source": [
    "The spectral expansion of $e^{Q \\cdot t}$ is"
   ]
  },
  {
   "cell_type": "markdown",
   "metadata": {},
   "source": [
    "$e^{Q \\cdot t}=\\sum\\limits_{m=0}^{k-1} A_m \\cdot e^{-\\lambda_m \\cdot t}$"
   ]
  },
  {
   "cell_type": "markdown",
   "metadata": {},
   "source": [
    "but as noted above, $p(0) \\cdot A_0=p(\\infty)$"
   ]
  },
  {
   "cell_type": "code",
   "execution_count": 32,
   "metadata": {},
   "outputs": [
    {
     "data": {
      "text/plain": [
       "array([0.00012 , 0.898096, 0.029937, 0.023949, 0.047898])"
      ]
     },
     "execution_count": 32,
     "metadata": {},
     "output_type": "execute_result"
    }
   ],
   "source": [
    "np.dot(p0, A[0])"
   ]
  },
  {
   "cell_type": "markdown",
   "metadata": {},
   "source": [
    "##### Define $p(t)$"
   ]
  },
  {
   "cell_type": "markdown",
   "metadata": {},
   "source": [
    "$p(t)=p(\\infty)+p(0) \\cdot \\sum\\limits_{m=1}^{k-1}(A_m \\cdot e^{-\\lambda_m \\cdot t})$"
   ]
  },
  {
   "cell_type": "markdown",
   "metadata": {},
   "source": [
    "Note that there are k-1 components."
   ]
  },
  {
   "cell_type": "code",
   "execution_count": 33,
   "metadata": {},
   "outputs": [],
   "source": [
    "def p(t):\n",
    "    At = np.zeros((eigvals.size, eigvals.size))\n",
    "    for i in range(1, eigvals.size):\n",
    "        At += A[i] * np.exp(-t / tau[i])\n",
    "    return pinf + np.dot(p0, At)"
   ]
  },
  {
   "cell_type": "code",
   "execution_count": 34,
   "metadata": {},
   "outputs": [
    {
     "data": {
      "text/plain": [
       "array([0.000222, 0.36327 , 0.035736, 0.098845, 0.501927])"
      ]
     },
     "execution_count": 34,
     "metadata": {},
     "output_type": "execute_result"
    }
   ],
   "source": [
    "p(1)"
   ]
  },
  {
   "cell_type": "markdown",
   "metadata": {},
   "source": [
    "##### Plot $P_{open}$ and occupancies of open states"
   ]
  },
  {
   "cell_type": "code",
   "execution_count": 35,
   "metadata": {},
   "outputs": [],
   "source": [
    "t = np.linspace(0.0, 6.0, num=256)\n",
    "pt = []\n",
    "for ti in t:\n",
    "    pt.append(p(ti))\n",
    "pt = np.array(pt)\n",
    "Popen = pt[:,0] + pt[:,1]"
   ]
  },
  {
   "cell_type": "code",
   "execution_count": 36,
   "metadata": {},
   "outputs": [
    {
     "data": {
      "text/plain": [
       "[<matplotlib.lines.Line2D at 0x150d061d7c0>,\n",
       " <matplotlib.lines.Line2D at 0x150d061d6d0>,\n",
       " <matplotlib.lines.Line2D at 0x150d061d910>]"
      ]
     },
     "execution_count": 36,
     "metadata": {},
     "output_type": "execute_result"
    },
    {
     "data": {
      "image/png": "[encoded data removed]",
      "text/plain": [
       "<Figure size 432x288 with 1 Axes>"
      ]
     },
     "metadata": {
      "needs_background": "light"
     },
     "output_type": "display_data"
    }
   ],
   "source": [
    "plt.plot(t, Popen, 'r-', t, pt[:,0], 'b--', t, pt[:,1], 'g--')"
   ]
  },
  {
   "cell_type": "markdown",
   "metadata": {},
   "source": [
    "##### Plot the current"
   ]
  },
  {
   "cell_type": "markdown",
   "metadata": {},
   "source": [
    "$I(t)=N \\cdot V \\cdot p(t) \\cdot \\gamma$ , where $N$- number of channels, $V$- voltage (V), $\\gamma$- conductance (pS)"
   ]
  },
  {
   "cell_type": "markdown",
   "metadata": {},
   "source": [
    "Define a column vector $\\gamma$ that contains conductances (pS)"
   ]
  },
  {
   "cell_type": "code",
   "execution_count": 37,
   "metadata": {},
   "outputs": [],
   "source": [
    "gamma = np.zeros((k,1))\n",
    "gamma[0], gamma[1] = 60, 60"
   ]
  },
  {
   "cell_type": "code",
   "execution_count": 38,
   "metadata": {},
   "outputs": [
    {
     "data": {
      "text/plain": [
       "array([[60.],\n",
       "       [60.],\n",
       "       [ 0.],\n",
       "       [ 0.],\n",
       "       [ 0.]])"
      ]
     },
     "execution_count": 38,
     "metadata": {},
     "output_type": "execute_result"
    }
   ],
   "source": [
    "gamma"
   ]
  },
  {
   "cell_type": "code",
   "execution_count": 39,
   "metadata": {},
   "outputs": [],
   "source": [
    "N, V = 1, -0.1"
   ]
  },
  {
   "cell_type": "code",
   "execution_count": 40,
   "metadata": {},
   "outputs": [],
   "source": [
    "def I(t):\n",
    "    return N * V * np.dot(p(t), gamma)"
   ]
  },
  {
   "cell_type": "code",
   "execution_count": 41,
   "metadata": {},
   "outputs": [],
   "source": [
    "It = []\n",
    "for ti in t:\n",
    "    It.append(I(ti))\n",
    "It = np.array(It)"
   ]
  },
  {
   "cell_type": "code",
   "execution_count": 42,
   "metadata": {},
   "outputs": [
    {
     "data": {
      "text/plain": [
       "[<matplotlib.lines.Line2D at 0x150d07146d0>]"
      ]
     },
     "execution_count": 42,
     "metadata": {},
     "output_type": "execute_result"
    },
    {
     "data": {
      "image/png": "[encoded data removed]",
      "text/plain": [
       "<Figure size 432x288 with 1 Axes>"
      ]
     },
     "metadata": {
      "needs_background": "light"
     },
     "output_type": "display_data"
    }
   ],
   "source": [
    "plt.plot(t, It, 'r-')\n",
    "\n"
   ]
  },
  {
   "cell_type": "markdown",
   "metadata": {
    "collapsed": true
   },
   "source": [
    "#### Calculate amplitudes for each exponential component"
   ]
  },
  {
   "cell_type": "markdown",
   "metadata": {},
   "source": [
    "Note that exactly the same time constants describe the time course of occupancy for all five states. The only thing that varies from one state to another is the amplitude of the components.\n",
    "\n",
    "$w_{m,j}$ is amplitude of m th component in occupancy for state j in the entirely scalar representation of the time course\n",
    "\n",
    "$p_j (t)=p_j (\\infty)+ \\sum\\limits_{m=1}^{k-1}[p(0)_{0,i} \\cdot (A_m)_{i,j}]$\n",
    "\n",
    "Now find weghted components:"
   ]
  },
  {
   "cell_type": "code",
   "execution_count": 43,
   "metadata": {},
   "outputs": [],
   "source": [
    "def w(k, A, p):\n",
    "    w = np.zeros((k, k))\n",
    "    for n in range (k):\n",
    "        w[n, :] = np.dot(p, A[n, :, :])\n",
    "    return w"
   ]
  },
  {
   "cell_type": "code",
   "execution_count": 44,
   "metadata": {},
   "outputs": [
    {
     "data": {
      "text/plain": [
       "-1.04402024269474"
      ]
     },
     "execution_count": 44,
     "metadata": {},
     "output_type": "execute_result"
    }
   ],
   "source": [
    "w(k, A, p0)[1,1]"
   ]
  },
  {
   "cell_type": "code",
   "execution_count": null,
   "metadata": {},
   "outputs": [],
   "source": []
  }
 ],
 "metadata": {
  "kernelspec": {
   "display_name": "Python 3 (ipykernel)",
   "language": "python",
   "name": "python3"
  },
  "language_info": {
   "codemirror_mode": {
    "name": "ipython",
    "version": 3
   },
   "file_extension": ".py",
   "mimetype": "text/x-python",
   "name": "python",
   "nbconvert_exporter": "python",
   "pygments_lexer": "ipython3",
   "version": "3.9.12"
  }
 },
 "nbformat": 4,
 "nbformat_minor": 1
}
