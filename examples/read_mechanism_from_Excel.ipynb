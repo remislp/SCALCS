{
 "cells": [
  {
   "cell_type": "code",
   "execution_count": 21,
   "metadata": {},
   "outputs": [],
   "source": [
    "%matplotlib inline\n",
    "import matplotlib.pyplot as plt"
   ]
  },
  {
   "cell_type": "code",
   "execution_count": 22,
   "metadata": {},
   "outputs": [],
   "source": [
    "import pandas as pd\n",
    "import numpy as np"
   ]
  },
  {
   "cell_type": "code",
   "execution_count": 23,
   "metadata": {},
   "outputs": [],
   "source": [
    "from scalcs import mechanism\n",
    "from scalcs import scalcslib as scl"
   ]
  },
  {
   "cell_type": "code",
   "execution_count": 24,
   "metadata": {},
   "outputs": [],
   "source": [
    "df = pd.read_excel('AMPAR_ZRVH_06.xlsx', sheet_name='s3_glu', index_col=None, header=None)"
   ]
  },
  {
   "cell_type": "code",
   "execution_count": 25,
   "metadata": {},
   "outputs": [
    {
     "name": "stdout",
     "output_type": "stream",
     "text": [
      "            0                                             1     2      3  \\\n",
      "0    mectitle                                      scheme_3   NaN    NaN   \n",
      "1   ratetitle                                     glutamate   NaN    NaN   \n",
      "2     comment  Zhang, .. Howe 2006 BJ;  Scheme 3; glutamate   NaN    NaN   \n",
      "3       state                                            O1     A  3e-11   \n",
      "4       state                                            O2     A  3e-11   \n",
      "5       state                                            O3     A  3e-11   \n",
      "6       state                                          RGS3     B      0   \n",
      "7       state                                          RGS2     B      0   \n",
      "8       state                                          RGS1     B      0   \n",
      "9       state                                            RG     B      0   \n",
      "10      state                                             R     C      0   \n",
      "11      state                                            D3     D      0   \n",
      "12      state                                            D2     D      0   \n",
      "13      state                                            D1     D      0   \n",
      "14    agonist                                     glutamate   NaN    NaN   \n",
      "15       rate                                         beta1  RGS1     O1   \n",
      "16       rate                                         beta2  RGS2     O2   \n",
      "17       rate                                         beta3  RGS3     O3   \n",
      "18       rate                                        alpha1    O1   RGS1   \n",
      "19       rate                                        alpha2    O2   RGS2   \n",
      "20       rate                                        alpha3    O3   RGS3   \n",
      "21       rate                                        delta1  RGS1     D1   \n",
      "22       rate                                        delta2  RGS2     D2   \n",
      "23       rate                                        delta3  RGS3     D3   \n",
      "24       rate                                        gamma1    D1   RGS1   \n",
      "25       rate                                        gamma2    D2   RGS2   \n",
      "26       rate                                        gamma3    D3   RGS3   \n",
      "27       rate                                           km1    RG      R   \n",
      "28       rate                                           kp1     R     RG   \n",
      "29       rate                                            CC    RG   RGS1   \n",
      "30       rate                                            CO  RGS1     RG   \n",
      "31       rate                                           CS1  RGS1   RGS2   \n",
      "32       rate                                           CD1  RGS2   RGS1   \n",
      "33       rate                                           CS2  RGS2   RGS3   \n",
      "34       rate                                           CD2  RGS3   RGS2   \n",
      "\n",
      "             4    5             6             7  \n",
      "0          NaN  NaN           NaN           NaN  \n",
      "1          NaN  NaN           NaN           NaN  \n",
      "2          NaN  NaN           NaN           NaN  \n",
      "3          NaN  NaN           NaN           NaN  \n",
      "4          NaN  NaN           NaN           NaN  \n",
      "5          NaN  NaN           NaN           NaN  \n",
      "6          NaN  NaN           NaN           NaN  \n",
      "7          NaN  NaN           NaN           NaN  \n",
      "8          NaN  NaN           NaN           NaN  \n",
      "9          NaN  NaN           NaN           NaN  \n",
      "10         NaN  NaN           NaN           NaN  \n",
      "11         NaN  NaN           NaN           NaN  \n",
      "12         NaN  NaN           NaN           NaN  \n",
      "13         NaN  NaN           NaN           NaN  \n",
      "14         NaN  NaN           NaN           NaN  \n",
      "15      5000.0  NaN  1.000000e-15  1.000000e+07  \n",
      "16      5000.0  NaN  1.000000e-15  1.000000e+07  \n",
      "17      5000.0  NaN  1.000000e-15  1.000000e+07  \n",
      "18      4000.0  NaN  1.000000e-15  1.000000e+07  \n",
      "19      4000.0  NaN  1.000000e-15  1.000000e+07  \n",
      "20      4000.0  NaN  1.000000e-15  1.000000e+07  \n",
      "21       500.0  NaN  1.000000e-15  1.000000e+07  \n",
      "22       100.0  NaN  1.000000e-15  1.000000e+07  \n",
      "23        50.0  NaN  1.000000e-15  1.000000e+07  \n",
      "24         1.0  NaN  1.000000e-15  1.000000e+07  \n",
      "25         1.0  NaN  1.000000e-15  1.000000e+07  \n",
      "26         1.0  NaN  1.000000e-15  1.000000e+07  \n",
      "27     50000.0  NaN  1.000000e-15  1.000000e+07  \n",
      "28  10000000.0    c  1.000000e-15  1.000000e+10  \n",
      "29     50000.0  NaN  1.000000e-15  1.000000e+07  \n",
      "30      3000.0  NaN  1.000000e-15  1.000000e+07  \n",
      "31        30.0  NaN  1.000000e-15  1.000000e+07  \n",
      "32       500.0  NaN  1.000000e-15  1.000000e+07  \n",
      "33       200.0  NaN  1.000000e-15  1.000000e+07  \n",
      "34        20.0  NaN  1.000000e-15  1.000000e+07  \n"
     ]
    }
   ],
   "source": [
    "print(df)"
   ]
  },
  {
   "cell_type": "code",
   "execution_count": 26,
   "metadata": {},
   "outputs": [
    {
     "name": "stdout",
     "output_type": "stream",
     "text": [
      "        0     1  2      3   4    5   6   7\n",
      "3   state    O1  A  3e-11 NaN  NaN NaN NaN\n",
      "4   state    O2  A  3e-11 NaN  NaN NaN NaN\n",
      "5   state    O3  A  3e-11 NaN  NaN NaN NaN\n",
      "6   state  RGS3  B      0 NaN  NaN NaN NaN\n",
      "7   state  RGS2  B      0 NaN  NaN NaN NaN\n",
      "8   state  RGS1  B      0 NaN  NaN NaN NaN\n",
      "9   state    RG  B      0 NaN  NaN NaN NaN\n",
      "10  state     R  C      0 NaN  NaN NaN NaN\n",
      "11  state    D3  D      0 NaN  NaN NaN NaN\n",
      "12  state    D2  D      0 NaN  NaN NaN NaN\n",
      "13  state    D1  D      0 NaN  NaN NaN NaN\n"
     ]
    }
   ],
   "source": [
    "df_states = df.loc[df.iloc[:, 0] == \"state\"]\n",
    "print (df_states)"
   ]
  },
  {
   "cell_type": "code",
   "execution_count": 27,
   "metadata": {},
   "outputs": [
    {
     "name": "stdout",
     "output_type": "stream",
     "text": [
      "{'O1': <scalcs.mechanism.State object at 0x000001DE764F42E8>, 'O2': <scalcs.mechanism.State object at 0x000001DE76880240>, 'O3': <scalcs.mechanism.State object at 0x000001DE76880828>, 'RGS3': <scalcs.mechanism.State object at 0x000001DE76880EF0>, 'RGS2': <scalcs.mechanism.State object at 0x000001DE76880CF8>, 'RGS1': <scalcs.mechanism.State object at 0x000001DE76880160>, 'RG': <scalcs.mechanism.State object at 0x000001DE76880F60>, 'R': <scalcs.mechanism.State object at 0x000001DE76880C88>, 'D3': <scalcs.mechanism.State object at 0x000001DE76880FD0>, 'D2': <scalcs.mechanism.State object at 0x000001DE768806A0>, 'D1': <scalcs.mechanism.State object at 0x000001DE76880470>}\n"
     ]
    }
   ],
   "source": [
    "states = {}\n",
    "for index, row in df_states.iterrows():\n",
    "    #print(row[0])\n",
    "    states[row[1]] = mechanism.State(row[2], row[1], row[3])\n",
    "print (states)"
   ]
  },
  {
   "cell_type": "code",
   "execution_count": 28,
   "metadata": {},
   "outputs": [
    {
     "name": "stdout",
     "output_type": "stream",
     "text": [
      "       0       1     2     3           4    5             6             7\n",
      "15  rate   beta1  RGS1    O1      5000.0  NaN  1.000000e-15  1.000000e+07\n",
      "16  rate   beta2  RGS2    O2      5000.0  NaN  1.000000e-15  1.000000e+07\n",
      "17  rate   beta3  RGS3    O3      5000.0  NaN  1.000000e-15  1.000000e+07\n",
      "18  rate  alpha1    O1  RGS1      4000.0  NaN  1.000000e-15  1.000000e+07\n",
      "19  rate  alpha2    O2  RGS2      4000.0  NaN  1.000000e-15  1.000000e+07\n",
      "20  rate  alpha3    O3  RGS3      4000.0  NaN  1.000000e-15  1.000000e+07\n",
      "21  rate  delta1  RGS1    D1       500.0  NaN  1.000000e-15  1.000000e+07\n",
      "22  rate  delta2  RGS2    D2       100.0  NaN  1.000000e-15  1.000000e+07\n",
      "23  rate  delta3  RGS3    D3        50.0  NaN  1.000000e-15  1.000000e+07\n",
      "24  rate  gamma1    D1  RGS1         1.0  NaN  1.000000e-15  1.000000e+07\n",
      "25  rate  gamma2    D2  RGS2         1.0  NaN  1.000000e-15  1.000000e+07\n",
      "26  rate  gamma3    D3  RGS3         1.0  NaN  1.000000e-15  1.000000e+07\n",
      "27  rate     km1    RG     R     50000.0  NaN  1.000000e-15  1.000000e+07\n",
      "28  rate     kp1     R    RG  10000000.0    c  1.000000e-15  1.000000e+10\n",
      "29  rate      CC    RG  RGS1     50000.0  NaN  1.000000e-15  1.000000e+07\n",
      "30  rate      CO  RGS1    RG      3000.0  NaN  1.000000e-15  1.000000e+07\n",
      "31  rate     CS1  RGS1  RGS2        30.0  NaN  1.000000e-15  1.000000e+07\n",
      "32  rate     CD1  RGS2  RGS1       500.0  NaN  1.000000e-15  1.000000e+07\n",
      "33  rate     CS2  RGS2  RGS3       200.0  NaN  1.000000e-15  1.000000e+07\n",
      "34  rate     CD2  RGS3  RGS2        20.0  NaN  1.000000e-15  1.000000e+07\n"
     ]
    }
   ],
   "source": [
    "df_rates = df.loc[df.iloc[:, 0] == \"rate\"]\n",
    "print (df_rates)"
   ]
  },
  {
   "cell_type": "code",
   "execution_count": 29,
   "metadata": {},
   "outputs": [
    {
     "name": "stdout",
     "output_type": "stream",
     "text": [
      "rate beta1 RGS1 O1 5000.0 nan 1e-15 10000000.0\n",
      "5000.0 RGS1 O1 beta1 None 1e-15 10000000.0\n",
      "rate beta2 RGS2 O2 5000.0 nan 1e-15 10000000.0\n",
      "5000.0 RGS2 O2 beta2 None 1e-15 10000000.0\n",
      "rate beta3 RGS3 O3 5000.0 nan 1e-15 10000000.0\n",
      "5000.0 RGS3 O3 beta3 None 1e-15 10000000.0\n",
      "rate alpha1 O1 RGS1 4000.0 nan 1e-15 10000000.0\n",
      "4000.0 O1 RGS1 alpha1 None 1e-15 10000000.0\n",
      "rate alpha2 O2 RGS2 4000.0 nan 1e-15 10000000.0\n",
      "4000.0 O2 RGS2 alpha2 None 1e-15 10000000.0\n",
      "rate alpha3 O3 RGS3 4000.0 nan 1e-15 10000000.0\n",
      "4000.0 O3 RGS3 alpha3 None 1e-15 10000000.0\n",
      "rate delta1 RGS1 D1 500.0 nan 1e-15 10000000.0\n",
      "500.0 RGS1 D1 delta1 None 1e-15 10000000.0\n",
      "rate delta2 RGS2 D2 100.0 nan 1e-15 10000000.0\n",
      "100.0 RGS2 D2 delta2 None 1e-15 10000000.0\n",
      "rate delta3 RGS3 D3 50.0 nan 1e-15 10000000.0\n",
      "50.0 RGS3 D3 delta3 None 1e-15 10000000.0\n",
      "rate gamma1 D1 RGS1 1.0 nan 1e-15 10000000.0\n",
      "1.0 D1 RGS1 gamma1 None 1e-15 10000000.0\n",
      "rate gamma2 D2 RGS2 1.0 nan 1e-15 10000000.0\n",
      "1.0 D2 RGS2 gamma2 None 1e-15 10000000.0\n",
      "rate gamma3 D3 RGS3 1.0 nan 1e-15 10000000.0\n",
      "1.0 D3 RGS3 gamma3 None 1e-15 10000000.0\n",
      "rate km1 RG R 50000.0 nan 1e-15 10000000.0\n",
      "50000.0 RG R km1 None 1e-15 10000000.0\n",
      "rate kp1 R RG 10000000.0 c 1e-15 10000000000.0\n",
      "10000000.0 R RG kp1 c 1e-15 10000000000.0\n",
      "rate CC RG RGS1 50000.0 nan 1e-15 10000000.0\n",
      "50000.0 RG RGS1 CC None 1e-15 10000000.0\n",
      "rate CO RGS1 RG 3000.0 nan 1e-15 10000000.0\n",
      "3000.0 RGS1 RG CO None 1e-15 10000000.0\n",
      "rate CS1 RGS1 RGS2 30.0 nan 1e-15 10000000.0\n",
      "30.0 RGS1 RGS2 CS1 None 1e-15 10000000.0\n",
      "rate CD1 RGS2 RGS1 500.0 nan 1e-15 10000000.0\n",
      "500.0 RGS2 RGS1 CD1 None 1e-15 10000000.0\n",
      "rate CS2 RGS2 RGS3 200.0 nan 1e-15 10000000.0\n",
      "200.0 RGS2 RGS3 CS2 None 1e-15 10000000.0\n",
      "rate CD2 RGS3 RGS2 20.0 nan 1e-15 10000000.0\n",
      "20.0 RGS3 RGS2 CD2 None 1e-15 10000000.0\n"
     ]
    }
   ],
   "source": [
    "rates = []\n",
    "for index, row in df_rates.iterrows():\n",
    "    print(row[0], row[1], row[2], row[3], row[4], row[5], row[6], row[7])\n",
    "    if row[5] is 'c':\n",
    "        bound = 'c'\n",
    "    else:\n",
    "        bound = None\n",
    "    print(row[4], row[2], row[3], row[1], bound, row[6], row[7])\n",
    "    rates.append(mechanism.Rate(row[4], states[row[2]], states[row[3]], name=row[1], \n",
    "                                eff=bound, limits=[row[6], row[7]]))\n",
    "    \n",
    "#    rates.append(mechanism.Rate(rate, StateList[irate[i]-1],\n",
    "#            StateList[jrate[i]-1], name=ratename[i], eff=bound))"
   ]
  },
  {
   "cell_type": "code",
   "execution_count": 30,
   "metadata": {},
   "outputs": [
    {
     "name": "stdout",
     "output_type": "stream",
     "text": [
      "scheme_3\n",
      "glutamate\n"
     ]
    }
   ],
   "source": [
    "mectitle = df.loc[df.iloc[:, 0] == \"mectitle\"].iloc[0][1]\n",
    "print(mectitle)\n",
    "ratetitle = df.loc[df.iloc[:, 0] == \"ratetitle\"].iloc[0][1]\n",
    "print(ratetitle)"
   ]
  },
  {
   "cell_type": "code",
   "execution_count": 31,
   "metadata": {},
   "outputs": [
    {
     "name": "stdout",
     "output_type": "stream",
     "text": [
      "\n",
      "class dcpyps.Mechanism\n",
      "Values of unit rates [1/sec]:\n",
      "0\tFrom RGS1  \tto O1    \tbeta1   \t5000.0\n",
      "1\tFrom RGS2  \tto O2    \tbeta2   \t5000.0\n",
      "2\tFrom RGS3  \tto O3    \tbeta3   \t5000.0\n",
      "3\tFrom O1  \tto RGS1    \talpha1   \t4000.0\n",
      "4\tFrom O2  \tto RGS2    \talpha2   \t4000.0\n",
      "5\tFrom O3  \tto RGS3    \talpha3   \t4000.0\n",
      "6\tFrom RGS1  \tto D1    \tdelta1   \t500.0\n",
      "7\tFrom RGS2  \tto D2    \tdelta2   \t100.0\n",
      "8\tFrom RGS3  \tto D3    \tdelta3   \t50.0\n",
      "9\tFrom D1  \tto RGS1    \tgamma1   \t1.0\n",
      "10\tFrom D2  \tto RGS2    \tgamma2   \t1.0\n",
      "11\tFrom D3  \tto RGS3    \tgamma3   \t1.0\n",
      "12\tFrom RG  \tto R    \tkm1   \t50000.0\n",
      "13\tFrom R  \tto RG    \tkp1   \t10000000.0\n",
      "14\tFrom RG  \tto RGS1    \tCC   \t50000.0\n",
      "15\tFrom RGS1  \tto RG    \tCO   \t3000.0\n",
      "16\tFrom RGS1  \tto RGS2    \tCS1   \t30.0\n",
      "17\tFrom RGS2  \tto RGS1    \tCD1   \t500.0\n",
      "18\tFrom RGS2  \tto RGS3    \tCS2   \t200.0\n",
      "19\tFrom RGS3  \tto RGS2    \tCD2   \t20.0\n",
      "\n",
      "Conductance of state O1 (pS)  =      30\n",
      "\n",
      "Conductance of state O2 (pS)  =      30\n",
      "\n",
      "Conductance of state O3 (pS)  =      30\n",
      "\n",
      "Number of open states = 3\n",
      "Number of short-lived shut states (within burst) = 4\n",
      "Number of long-lived shut states (between bursts) = 1\n",
      "Number of desensitised states = 3\n",
      "\n",
      "Number of cycles = 0\n"
     ]
    }
   ],
   "source": [
    "mec = mechanism.Mechanism(rates, [], mtitle=mectitle, rtitle=ratetitle)\n",
    "print(mec)"
   ]
  },
  {
   "cell_type": "code",
   "execution_count": 32,
   "metadata": {},
   "outputs": [],
   "source": [
    "from scalcs import popen"
   ]
  },
  {
   "cell_type": "code",
   "execution_count": 33,
   "metadata": {},
   "outputs": [],
   "source": [
    "pc = popen.PopenCurve(mec)"
   ]
  },
  {
   "cell_type": "code",
   "execution_count": 34,
   "metadata": {},
   "outputs": [],
   "source": [
    "c = pc._pilot_conc\n",
    "y = pc._pilot_popen"
   ]
  },
  {
   "cell_type": "code",
   "execution_count": 35,
   "metadata": {},
   "outputs": [
    {
     "data": {
      "image/png": "[encoded data removed]",
      "text/plain": [
       "<Figure size 432x288 with 1 Axes>"
      ]
     },
     "metadata": {
      "needs_background": "light"
     },
     "output_type": "display_data"
    }
   ],
   "source": [
    "plt.semilogx(c, y, 'b')\n",
    "plt.ylabel('Popen')\n",
    "plt.xlabel('Concentration');"
   ]
  },
  {
   "cell_type": "code",
   "execution_count": 36,
   "metadata": {},
   "outputs": [
    {
     "data": {
      "text/plain": [
       "0.00015050878314392947"
      ]
     },
     "execution_count": 36,
     "metadata": {},
     "output_type": "execute_result"
    }
   ],
   "source": [
    "pc.EC50"
   ]
  },
  {
   "cell_type": "code",
   "execution_count": 37,
   "metadata": {},
   "outputs": [
    {
     "name": "stdout",
     "output_type": "stream",
     "text": [
      "\n",
      "\n",
      "\n",
      "*******************************************\n",
      "\n",
      "Open\tEquilibrium\tMean life\tMean latency (ms)\n",
      "state\toccupancy\t(ms)\tto next shutting\n",
      "\t\t\tgiven start in this state\n",
      "Subset A \t0.00058619\t0.25\n",
      "1\t0.00035313\t0.25\t0.25\n",
      "2\t2.1188e-05\t0.25\t0.25\n",
      "3\t0.00021188\t0.25\t0.25\n",
      "\n",
      "Shut\tEquilibrium\tMean life\tMean latency (ms)\n",
      "state\toccupancy\t(ms)\tto next opening\n",
      "\t\t\tgiven start in this state\n",
      "Subset B \t0.0004859\t0.14532\n",
      "4\t0.0002825\t0.11723\t696.51\n",
      "5\t1.695e-05\t0.17241\t79.184\n",
      "6\t0.0001695\t0.19724\t10.475\n",
      "7\t1.695e-05\t0.01\t1696.5\n",
      "\n",
      "Subset C \t0.84751\t1000\n",
      "8\t0.84751\t1000\t2696.5\n",
      "\n",
      "Subset D \t0.15142\t1000\n",
      "9\t0.14125\t1000\t1696.5\n",
      "10\t0.001695\t1000\t1079.2\n",
      "11\t0.0084751\t1000\t1010.5\n",
      "\n",
      "\n",
      "Initial vector for HJC openings phiOp =\n",
      "\t0.064519\t0.055682\t0.87959\n",
      "Initial vector for ideal openings phiOp =\n",
      "\t0.60241\t0.036145\t0.36145\n",
      "Initial vector for HJC shuttings phiSh =\n",
      "\t0.085525\t0.054785\t0.85021\t0.0044431\t0.0048338\n",
      "Initial vector for ideal shuttings phiSh =\n",
      "\t0.60241\t0.036145\t0.36145\t0\t0\n",
      "\n"
     ]
    }
   ],
   "source": [
    "tres = 30e-6\n",
    "conc = 100e-9    # 100 nM\n",
    "mec.set_eff('c', conc)\n",
    "print(scl.printout_occupancies(mec, tres))"
   ]
  },
  {
   "cell_type": "code",
   "execution_count": 38,
   "metadata": {},
   "outputs": [
    {
     "data": {
      "text/plain": [
       "array([[-4.00e+03,  0.00e+00,  0.00e+00,  4.00e+03,  0.00e+00,  0.00e+00,\n",
       "         0.00e+00,  0.00e+00,  0.00e+00,  0.00e+00,  0.00e+00],\n",
       "       [ 0.00e+00, -4.00e+03,  0.00e+00,  0.00e+00,  4.00e+03,  0.00e+00,\n",
       "         0.00e+00,  0.00e+00,  0.00e+00,  0.00e+00,  0.00e+00],\n",
       "       [ 0.00e+00,  0.00e+00, -4.00e+03,  0.00e+00,  0.00e+00,  4.00e+03,\n",
       "         0.00e+00,  0.00e+00,  0.00e+00,  0.00e+00,  0.00e+00],\n",
       "       [ 5.00e+03,  0.00e+00,  0.00e+00, -8.53e+03,  3.00e+01,  0.00e+00,\n",
       "         3.00e+03,  0.00e+00,  5.00e+02,  0.00e+00,  0.00e+00],\n",
       "       [ 0.00e+00,  5.00e+03,  0.00e+00,  5.00e+02, -5.80e+03,  2.00e+02,\n",
       "         0.00e+00,  0.00e+00,  0.00e+00,  1.00e+02,  0.00e+00],\n",
       "       [ 0.00e+00,  0.00e+00,  5.00e+03,  0.00e+00,  2.00e+01, -5.07e+03,\n",
       "         0.00e+00,  0.00e+00,  0.00e+00,  0.00e+00,  5.00e+01],\n",
       "       [ 0.00e+00,  0.00e+00,  0.00e+00,  5.00e+04,  0.00e+00,  0.00e+00,\n",
       "        -1.00e+05,  5.00e+04,  0.00e+00,  0.00e+00,  0.00e+00],\n",
       "       [ 0.00e+00,  0.00e+00,  0.00e+00,  0.00e+00,  0.00e+00,  0.00e+00,\n",
       "         1.00e+00, -1.00e+00,  0.00e+00,  0.00e+00,  0.00e+00],\n",
       "       [ 0.00e+00,  0.00e+00,  0.00e+00,  1.00e+00,  0.00e+00,  0.00e+00,\n",
       "         0.00e+00,  0.00e+00, -1.00e+00,  0.00e+00,  0.00e+00],\n",
       "       [ 0.00e+00,  0.00e+00,  0.00e+00,  0.00e+00,  1.00e+00,  0.00e+00,\n",
       "         0.00e+00,  0.00e+00,  0.00e+00, -1.00e+00,  0.00e+00],\n",
       "       [ 0.00e+00,  0.00e+00,  0.00e+00,  0.00e+00,  0.00e+00,  1.00e+00,\n",
       "         0.00e+00,  0.00e+00,  0.00e+00,  0.00e+00, -1.00e+00]])"
      ]
     },
     "execution_count": 38,
     "metadata": {},
     "output_type": "execute_result"
    }
   ],
   "source": [
    "mec.Q"
   ]
  },
  {
   "cell_type": "code",
   "execution_count": 39,
   "metadata": {},
   "outputs": [
    {
     "name": "stdout",
     "output_type": "stream",
     "text": [
      "\n",
      "\n",
      "\n",
      "*******************************************\n",
      "\n",
      "Open\tEquilibrium\tMean life\tMean latency (ms)\n",
      "state\toccupancy\t(ms)\tto next shutting\n",
      "\t\t\tgiven start in this state\n",
      "Subset A \t0.003844\t0.25\n",
      "1\t0.0023157\t0.25\t0.25\n",
      "2\t0.00013894\t0.25\t0.25\n",
      "3\t0.0013894\t0.25\t0.25\n",
      "\n",
      "Shut\tEquilibrium\tMean life\tMean latency (ms)\n",
      "state\toccupancy\t(ms)\tto next opening\n",
      "\t\t\tgiven start in this state\n",
      "Subset B \t0.0031864\t0.14532\n",
      "4\t0.0018525\t0.11723\t99.775\n",
      "5\t0.00011115\t0.17241\t26.832\n",
      "6\t0.0011115\t0.19724\t10.266\n",
      "7\t0.00011115\t0.01\t99.796\n",
      "\n",
      "Subset C \t5.5576e-06\t0.001\n",
      "8\t5.5576e-06\t0.001\t99.797\n",
      "\n",
      "Subset D \t0.99296\t1000\n",
      "9\t0.92627\t1000\t1099.8\n",
      "10\t0.011115\t1000\t1026.8\n",
      "11\t0.055576\t1000\t1010.3\n",
      "\n",
      "\n",
      "Initial vector for HJC openings phiOp =\n",
      "\t0.064483\t0.055682\t0.87963\n",
      "Initial vector for ideal openings phiOp =\n",
      "\t0.60241\t0.036145\t0.36145\n",
      "Initial vector for HJC shuttings phiSh =\n",
      "\t0.086552\t0.054787\t0.85028\t0.0060696\t0.0021195\n",
      "Initial vector for ideal shuttings phiSh =\n",
      "\t0.60241\t0.036145\t0.36145\t0\t0\n",
      "\n"
     ]
    }
   ],
   "source": [
    "conc = 100e-3    # 100 nM\n",
    "mec.set_eff('c', conc)\n",
    "print(scl.printout_occupancies(mec, tres))"
   ]
  },
  {
   "cell_type": "code",
   "execution_count": 40,
   "metadata": {},
   "outputs": [
    {
     "data": {
      "text/plain": [
       "array([[-4.00e+03,  0.00e+00,  0.00e+00,  4.00e+03,  0.00e+00,  0.00e+00,\n",
       "         0.00e+00,  0.00e+00,  0.00e+00,  0.00e+00,  0.00e+00],\n",
       "       [ 0.00e+00, -4.00e+03,  0.00e+00,  0.00e+00,  4.00e+03,  0.00e+00,\n",
       "         0.00e+00,  0.00e+00,  0.00e+00,  0.00e+00,  0.00e+00],\n",
       "       [ 0.00e+00,  0.00e+00, -4.00e+03,  0.00e+00,  0.00e+00,  4.00e+03,\n",
       "         0.00e+00,  0.00e+00,  0.00e+00,  0.00e+00,  0.00e+00],\n",
       "       [ 5.00e+03,  0.00e+00,  0.00e+00, -8.53e+03,  3.00e+01,  0.00e+00,\n",
       "         3.00e+03,  0.00e+00,  5.00e+02,  0.00e+00,  0.00e+00],\n",
       "       [ 0.00e+00,  5.00e+03,  0.00e+00,  5.00e+02, -5.80e+03,  2.00e+02,\n",
       "         0.00e+00,  0.00e+00,  0.00e+00,  1.00e+02,  0.00e+00],\n",
       "       [ 0.00e+00,  0.00e+00,  5.00e+03,  0.00e+00,  2.00e+01, -5.07e+03,\n",
       "         0.00e+00,  0.00e+00,  0.00e+00,  0.00e+00,  5.00e+01],\n",
       "       [ 0.00e+00,  0.00e+00,  0.00e+00,  5.00e+04,  0.00e+00,  0.00e+00,\n",
       "        -1.00e+05,  5.00e+04,  0.00e+00,  0.00e+00,  0.00e+00],\n",
       "       [ 0.00e+00,  0.00e+00,  0.00e+00,  0.00e+00,  0.00e+00,  0.00e+00,\n",
       "         1.00e+06, -1.00e+06,  0.00e+00,  0.00e+00,  0.00e+00],\n",
       "       [ 0.00e+00,  0.00e+00,  0.00e+00,  1.00e+00,  0.00e+00,  0.00e+00,\n",
       "         0.00e+00,  0.00e+00, -1.00e+00,  0.00e+00,  0.00e+00],\n",
       "       [ 0.00e+00,  0.00e+00,  0.00e+00,  0.00e+00,  1.00e+00,  0.00e+00,\n",
       "         0.00e+00,  0.00e+00,  0.00e+00, -1.00e+00,  0.00e+00],\n",
       "       [ 0.00e+00,  0.00e+00,  0.00e+00,  0.00e+00,  0.00e+00,  1.00e+00,\n",
       "         0.00e+00,  0.00e+00,  0.00e+00,  0.00e+00, -1.00e+00]])"
      ]
     },
     "execution_count": 40,
     "metadata": {},
     "output_type": "execute_result"
    }
   ],
   "source": [
    "mec.Q"
   ]
  },
  {
   "cell_type": "code",
   "execution_count": null,
   "metadata": {},
   "outputs": [],
   "source": []
  }
 ],
 "metadata": {
  "kernelspec": {
   "display_name": "Python 3",
   "language": "python",
   "name": "python3"
  },
  "language_info": {
   "codemirror_mode": {
    "name": "ipython",
    "version": 3
   },
   "file_extension": ".py",
   "mimetype": "text/x-python",
   "name": "python",
   "nbconvert_exporter": "python",
   "pygments_lexer": "ipython3",
   "version": "3.6.6"
  }
 },
 "nbformat": 4,
 "nbformat_minor": 2
}
