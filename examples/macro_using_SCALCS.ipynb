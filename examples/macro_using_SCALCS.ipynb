{
 "cells": [
  {
   "cell_type": "markdown",
   "metadata": {},
   "source": [
    "# Calculate macroscopic current in response to a concentration jump or pulse using ``scalcs.cjumps`` library"
   ]
  },
  {
   "cell_type": "code",
   "execution_count": 1,
   "metadata": {},
   "outputs": [],
   "source": [
    "%matplotlib inline\n",
    "import matplotlib.pyplot as plt"
   ]
  },
  {
   "cell_type": "code",
   "execution_count": 2,
   "metadata": {},
   "outputs": [],
   "source": [
    "import sys\n",
    "import time\n",
    "import numpy as np\n",
    "import scipy.integrate as scpi\n",
    "\n",
    "from scalcs import mechanism\n",
    "from scalcs import qmatlib as qml\n",
    "from scalcs.samples import samples\n",
    "from scalcs import cjumps"
   ]
  },
  {
   "cell_type": "markdown",
   "metadata": {},
   "source": [
    "### The 5 state model used in CH82 as numerical example"
   ]
  },
  {
   "cell_type": "code",
   "execution_count": 3,
   "metadata": {},
   "outputs": [],
   "source": [
    "mec = samples.CH82()\n",
    "conc = 100e-9 # 100 nM\n",
    "mec.set_eff('c', conc)\n",
    "tstep = 5e-6\n",
    "reclen = 50e-3"
   ]
  },
  {
   "cell_type": "markdown",
   "metadata": {},
   "source": [
    "##### Instantaneous rise, exponential decay"
   ]
  },
  {
   "cell_type": "code",
   "execution_count": 4,
   "metadata": {},
   "outputs": [],
   "source": [
    "cfunc = cjumps.pulse_instexp\n",
    "cargs = (0.00001, 0.0, 0.005, 0.0025)"
   ]
  },
  {
   "cell_type": "code",
   "execution_count": 5,
   "metadata": {},
   "outputs": [
    {
     "name": "stdout",
     "output_type": "stream",
     "text": [
      "ntesting inst_exp jump calculation speed...\n",
      "integration took 0.038736 s\n",
      "direct matrix calculation took 1.899367 s\n"
     ]
    }
   ],
   "source": [
    "print ('ntesting inst_exp jump calculation speed...')\n",
    "\n",
    "start = time.time()\n",
    "t, c, P1i = cjumps.calculate_macro_response(mec, tstep, reclen, cfunc, cargs, method='integrate')\n",
    "print ('integration took {0:.6f} s'.format(time.time() - start))\n",
    "Popen1i = np.sum(P1i[: mec.kA], axis=0)\n",
    "\n",
    "start = time.time()\n",
    "t, c, P1d = cjumps.calculate_macro_response(mec, tstep, reclen, cfunc, cargs, method='direct')\n",
    "print ('direct matrix calculation took {0:.6f} s'.format(time.time() - start))\n",
    "Popen1d = np.sum(P1d[: mec.kA], axis=0)\n",
    "\n",
    "np.testing.assert_almost_equal(max(Popen1i), max(Popen1d), 3)"
   ]
  },
  {
   "cell_type": "code",
   "execution_count": 6,
   "metadata": {},
   "outputs": [
    {
     "data": {
      "image/png": "[encoded data removed]",
      "text/plain": [
       "<Figure size 360x216 with 1 Axes>"
      ]
     },
     "metadata": {},
     "output_type": "display_data"
    }
   ],
   "source": [
    "fig, ax  = plt.subplots(1,1, figsize=(5,3))\n",
    "ax.plot(t* 1000, Popen1i,'b-' , t * 1000, Popen1d,'r--'); # , t * 1000, c01, 'g-')"
   ]
  },
  {
   "cell_type": "markdown",
   "metadata": {},
   "source": [
    "##### Realistic concentration pulse"
   ]
  },
  {
   "cell_type": "code",
   "execution_count": 7,
   "metadata": {},
   "outputs": [],
   "source": [
    "cfunc = cjumps.pulse_erf\n",
    "cargs = (0.00001, 0.0, 0.01, 0.01, 0.0002, 0.0002)"
   ]
  },
  {
   "cell_type": "code",
   "execution_count": 8,
   "metadata": {},
   "outputs": [
    {
     "name": "stdout",
     "output_type": "stream",
     "text": [
      "ntesting realistic jump calculation speed...\n",
      "integration took 0.043493 s\n",
      "direct matrix calculation took 2.261015 s\n"
     ]
    }
   ],
   "source": [
    "print ('ntesting realistic jump calculation speed...')\n",
    "\n",
    "start = time.time()\n",
    "t, c, P1i = cjumps.calculate_macro_response(mec, tstep, reclen, cfunc, cargs, method='integrate')\n",
    "print ('integration took {0:.6f} s'.format(time.time() - start))\n",
    "Popen1i = np.sum(P1i[: mec.kA], axis=0)\n",
    "\n",
    "start = time.time()\n",
    "t, c, P1d = cjumps.calculate_macro_response(mec, tstep, reclen, cfunc, cargs, method='direct')\n",
    "print ('direct matrix calculation took {0:.6f} s'.format(time.time() - start))\n",
    "Popen1d = np.sum(P1d[: mec.kA], axis=0)\n",
    "\n",
    "np.testing.assert_almost_equal(max(Popen1i), max(Popen1d), 3)"
   ]
  },
  {
   "cell_type": "code",
   "execution_count": 9,
   "metadata": {},
   "outputs": [
    {
     "data": {
      "image/png": "[encoded data removed]",
      "text/plain": [
       "<Figure size 360x216 with 1 Axes>"
      ]
     },
     "metadata": {},
     "output_type": "display_data"
    }
   ],
   "source": [
    "fig, ax  = plt.subplots(1,1, figsize=(5,3))\n",
    "ax.plot(t* 1000, Popen1i,'b-' , t * 1000, Popen1d,'r--'); # , t * 1000, c01, 'g-')"
   ]
  },
  {
   "cell_type": "markdown",
   "metadata": {},
   "source": [
    "### The 5 state model (2 binding steps, opening and desensitisation from propen state) used in CH95 as numerical example"
   ]
  },
  {
   "cell_type": "code",
   "execution_count": 10,
   "metadata": {},
   "outputs": [
    {
     "name": "stdout",
     "output_type": "stream",
     "text": [
      "\n",
      "class dcpyps.Mechanism\n",
      "Values of unit rates [1/sec]:\n",
      "0\tFrom A2R  \tto A2R*    \tbeta   \t46.5\n",
      "1\tFrom A2R*  \tto A2R    \talpha   \t91.6\n",
      "2\tFrom A2D  \tto A2R*    \tdoff   \t1.8\n",
      "3\tFrom A2R*  \tto A2D    \tdon   \t8.4\n",
      "4\tFrom A2R  \tto AR    \t2koff   \t9.4\n",
      "5\tFrom AR  \tto A2R    \tkon   \t5000000.0\n",
      "6\tFrom AR  \tto R    \tkoff   \t4.7\n",
      "7\tFrom R  \tto AR    \t2kon   \t10000000.0\n",
      "\n",
      "Conductance of state A2R* (pS)  =      50\n",
      "\n",
      "Number of open states = 1\n",
      "Number of short-lived shut states (within burst) = 3\n",
      "Number of long-lived shut states (between bursts) = 1\n",
      "Number of desensitised states = 0\n",
      "\n",
      "Number of cycles = 0"
     ]
    }
   ],
   "source": [
    "# LOAD MECHANISM \n",
    "mec = samples.CCCDO()\n",
    "mec.printout(sys.stdout)"
   ]
  },
  {
   "cell_type": "code",
   "execution_count": 11,
   "metadata": {},
   "outputs": [],
   "source": [
    "cmax = 0.001 # max concentrations\n",
    "cb = 0.0 # basal concentrations\n",
    "cpre1 = 0.25e-6\n",
    "cpre0 = 0.0\n",
    "\n",
    "base = 0.1 # time before pulse starts\n",
    "prepulse = 0.6 # time before pulse starts\n",
    "pulse = 0.05\n",
    "cjargs1 = (cb, cpre1, cmax, base, prepulse, pulse)\n",
    "cjargs0 = (cb, cpre0, cmax, base, prepulse, pulse)\n",
    "\n",
    "cjlen = 2 # Record length\n",
    "cjstep = 5e-4 # Sampling step\n",
    "cjfunc = cjumps.pulse_square_with_prepulse\n",
    "\n",
    "t0, c0, P0  = cjumps.calculate_macro_response(mec, cjstep, cjlen, cjfunc, cjargs0, method='direct')\n",
    "Popen0 = np.sum(P0[: mec.kA], axis=0)\n",
    "t1, c1, P1  = cjumps.calculate_macro_response(mec, cjstep, cjlen, cjfunc, cjargs1, method='direct')\n",
    "Popen1 = np.sum(P1[: mec.kA], axis=0)"
   ]
  },
  {
   "cell_type": "code",
   "execution_count": 12,
   "metadata": {},
   "outputs": [
    {
     "name": "stdout",
     "output_type": "stream",
     "text": [
      "maxPopen no prepulse = -1.1997138509286043\n",
      "maxPopen prepulse = -1.1650726790939123\n"
     ]
    },
    {
     "data": {
      "image/png": "[encoded data removed]",
      "text/plain": [
       "<Figure size 360x216 with 1 Axes>"
      ]
     },
     "metadata": {},
     "output_type": "display_data"
    }
   ],
   "source": [
    "fig, ax  = plt.subplots(1,1, figsize=(5,3))\n",
    "ax.plot(t0* 1000, -4*Popen0,'b-', t1 * 1000, -4*Popen1,'r--'); # , t * 1000, c01, 'g-')\n",
    "print('maxPopen no prepulse =', min(-4*Popen0))\n",
    "print('maxPopen prepulse =', min(-4*Popen1))"
   ]
  },
  {
   "cell_type": "code",
   "execution_count": 13,
   "metadata": {},
   "outputs": [
    {
     "data": {
      "image/png": "[encoded data removed]",
      "text/plain": [
       "<Figure size 360x216 with 1 Axes>"
      ]
     },
     "metadata": {},
     "output_type": "display_data"
    }
   ],
   "source": [
    "fig, ax  = plt.subplots(1,1, figsize=(5,3))\n",
    "ax.plot(t0* 1000, -4*Popen0,'b-', t1 * 1000, -4*Popen1,'r--'); # , t * 1000, c01, 'g-')\n",
    "ax.set_xlim(680, 1200);"
   ]
  },
  {
   "cell_type": "code",
   "execution_count": null,
   "metadata": {},
   "outputs": [],
   "source": []
  }
 ],
 "metadata": {
  "kernelspec": {
   "display_name": "Python 3",
   "language": "python",
   "name": "python3"
  },
  "language_info": {
   "codemirror_mode": {
    "name": "ipython",
    "version": 3
   },
   "file_extension": ".py",
   "mimetype": "text/x-python",
   "name": "python",
   "nbconvert_exporter": "python",
   "pygments_lexer": "ipython3",
   "version": "3.6.5"
  }
 },
 "nbformat": 4,
 "nbformat_minor": 2
}
