{
 "cells": [
  {
   "cell_type": "markdown",
   "metadata": {},
   "source": [
    "# Calculate first latency pdf- probability density function of the time to first opening"
   ]
  },
  {
   "cell_type": "code",
   "execution_count": 1,
   "metadata": {},
   "outputs": [],
   "source": [
    "%matplotlib inline\n",
    "import matplotlib.pyplot as plt\n",
    "import numpy as np\n",
    "from numpy import linalg as nplin\n",
    "import math"
   ]
  },
  {
   "cell_type": "code",
   "execution_count": 2,
   "metadata": {},
   "outputs": [],
   "source": [
    "from scalcs.samples import samples\n",
    "from scalcs import scalcslib as scl\n",
    "from scalcs import qmatlib as qm\n",
    "from scalcs import mechanism\n",
    "from scalcs import pdfs"
   ]
  },
  {
   "cell_type": "markdown",
   "metadata": {},
   "source": [
    "##### Load Colquhoun, Hawkes, Merlushkin & Edmonds 1997 numerical example"
   ]
  },
  {
   "cell_type": "code",
   "execution_count": 3,
   "metadata": {},
   "outputs": [],
   "source": [
    "def CHME97():\n",
    "    \n",
    "    mectitle = 'CHME97'\n",
    "    ratetitle = 'CHME97 numerical example'\n",
    "\n",
    "    A2RS = mechanism.State('A', 'A2R*', 60e-12)\n",
    "    A2D  = mechanism.State('B', 'A2D', 0.0)\n",
    "    A2R  = mechanism.State('B', 'A2R', 0.0)\n",
    "    AR   = mechanism.State('C', 'AR', 0.0)\n",
    "    R    = mechanism.State('C', 'R', 0.0)\n",
    "\n",
    "    RateList = [\n",
    "         \n",
    "         mechanism.Rate(916.0, A2RS, A2R, name='alpha', limits=[1e-15,1e+7]),\n",
    "         mechanism.Rate(46.5, A2R, A2RS, name='beta', limits=[1e-15,1e+7]),\n",
    "         mechanism.Rate(1.8, A2D, A2R, name='k-D', limits=[1e-15,1e+7]),\n",
    "         mechanism.Rate(8.4, A2R, A2D, name='k+D', limits=[1e-15,1e+7]),\n",
    "         \n",
    "         mechanism.Rate(5.0e06, AR, A2R, name='k(+2)', eff='c', limits=[1e-15,1e+10]),\n",
    "         mechanism.Rate(2 * 4.7, A2R, AR, name='2k(-2)', limits=[1e-15,1e+7]),\n",
    "         mechanism.Rate(2 * 5.0e06, R, AR, name='2k(+1)', eff='c', limits=[1e-15,1e+10]),\n",
    "         mechanism.Rate(4.7, AR, R, name='k(-1)', limits=[1e-15,1e+10])\n",
    "         ]\n",
    "    \n",
    "    CycleList = []\n",
    "\n",
    "    return  mechanism.Mechanism(RateList, CycleList, mtitle=mectitle, rtitle=ratetitle) #, fastblk, KBlk)"
   ]
  },
  {
   "cell_type": "code",
   "execution_count": 4,
   "metadata": {},
   "outputs": [],
   "source": [
    "c0 = 0.0 # 0 mM\n",
    "c1 = 0.001 # 1 mM\n",
    "mec0 = CHME97()\n",
    "mec0.set_eff('c', c0)\n",
    "mec1 = CHME97()\n",
    "mec1.set_eff('c', c1)"
   ]
  },
  {
   "cell_type": "markdown",
   "metadata": {},
   "source": [
    "##### Define few functions (slightly modified from those already existing in scalcs.scalcslib; TODO: update scalcslib to make existing functions more general)"
   ]
  },
  {
   "cell_type": "code",
   "execution_count": 5,
   "metadata": {},
   "outputs": [],
   "source": [
    "def asymptotic_areas_first_latency(tres, roots, pinf, mec): \n",
    "    \"\"\"\n",
    "    Find the areas of the asymptotic pdf.\n",
    "\n",
    "    Parameters\n",
    "    ----------\n",
    "    tres : float\n",
    "        Time resolution (dead time).\n",
    "    roots : array_like, shape (1,kF)\n",
    "        Roots of the asymptotic pdf.\n",
    "    pinf : ndarray, shape (1, kF)\n",
    "    mec :\n",
    "\n",
    "    Returns\n",
    "    -------\n",
    "    areas : ndarray, shape (1, kA)\n",
    "    \"\"\"\n",
    "\n",
    "    R = qm.AR(roots, tres, mec.QFF, mec.QAA, mec.QFA, mec.QAF, mec.kF, mec.kA)\n",
    "    uA = np.ones((mec.kA,1))\n",
    "    areas = np.zeros(mec.kF)\n",
    "    for i in range(mec.kF):\n",
    "        areas[i] = ((-1 / roots[i]) *\n",
    "            np.dot(pinf, np.dot(np.dot(R[i], np.dot(mec.QFA, qm.expQt(mec.QAA, tres))), uA)))\n",
    "    return areas\n",
    "\n",
    "def asymptotic_pdf(t, tres, tau, area):\n",
    "    \"\"\"\n",
    "    Calculate asymptotic probabolity density function.\n",
    "\n",
    "    Parameters\n",
    "    ----------\n",
    "    t : ndarray.\n",
    "        Time.\n",
    "    tres : float\n",
    "        Time resolution.\n",
    "    tau : ndarray, shape(k, 1)\n",
    "        Time constants.\n",
    "    area : ndarray, shape(k, 1)\n",
    "        Component relative area.\n",
    "\n",
    "    Returns\n",
    "    -------\n",
    "    apdf : ndarray.\n",
    "    \"\"\"\n",
    "    t1 = np.extract(t[:] < tres, t)\n",
    "    t2 = np.extract(t[:] >= tres, t)\n",
    "    apdf2 = pdfs.expPDF(t2 - tres, tau, area)\n",
    "    apdf = np.append(t1 * 0.0, apdf2)\n",
    "\n",
    "    return apdf\n",
    "\n",
    "def exact_GAMAxx(tres, phi, mec):\n",
    "    \"\"\"\n",
    "    Calculate gama coeficients for the exact pdf.\n",
    "\n",
    "    Parameters\n",
    "    ----------\n",
    "    tres : float\n",
    "    pinf :\n",
    "    mec : dcpyps.Mechanism\n",
    "        The mechanism to be analysed.\n",
    "\n",
    "    Returns\n",
    "    -------\n",
    "    eigen : ndarray, shape (k,)\n",
    "        Eigenvalues of -Q matrix.\n",
    "    gama00, gama10, gama11 : ndarrays\n",
    "        Constants for the exact open/shut time pdf.\n",
    "    \"\"\"\n",
    "\n",
    "    expQAA = qm.expQt(mec.QAA, tres)\n",
    "    eigs, A = qm.eigs_sorted(-mec.Q)\n",
    "\n",
    "    eigen, Z00, Z10, Z11 = qm.Zxx(mec.Q, eigs, A, mec.kA,\n",
    "        mec.QAA, mec.QFA, mec.QAF, expQAA, False)\n",
    "    u = np.ones((mec.kA, 1))\n",
    "\n",
    "    gama00 = (np.dot(np.dot(phi, Z00), u)).T[0]\n",
    "    gama10 = (np.dot(np.dot(phi, Z10), u)).T[0]\n",
    "    gama11 = (np.dot(np.dot(phi, Z11), u)).T[0]\n",
    "\n",
    "    return eigen, gama00, gama10, gama11"
   ]
  },
  {
   "cell_type": "markdown",
   "metadata": {},
   "source": [
    "#### The special case of a simple step from zero concentration"
   ]
  },
  {
   "cell_type": "code",
   "execution_count": 6,
   "metadata": {},
   "outputs": [],
   "source": [
    "points = 512\n",
    "tstart = 1.0e-6 \n",
    "tend = 0.1\n",
    "tseq = np.logspace(math.log10(tstart), math.log10(tend), points)"
   ]
  },
  {
   "cell_type": "code",
   "execution_count": 7,
   "metadata": {},
   "outputs": [],
   "source": [
    "tres = 0.0007 # 0.7 ms\n",
    "phiF0 = qm.pinf(mec0.Q)[mec0.kA:]"
   ]
  },
  {
   "cell_type": "code",
   "execution_count": 8,
   "metadata": {},
   "outputs": [],
   "source": [
    "# Ideal pdf: alculate using spectral matrices\n",
    "eigs, w = scl.ideal_dwell_time_pdf_components(mec1.QFF, phiF0)\n",
    "ipdf = pdfs.expPDF(tseq, 1 / eigs, w / eigs) "
   ]
  },
  {
   "cell_type": "code",
   "execution_count": 9,
   "metadata": {},
   "outputs": [],
   "source": [
    "# Asymptotic pdf\n",
    "roots = scl.asymptotic_roots(tres, mec1.QFF, mec1.QAA, mec1.QFA, mec1.QAF,\n",
    "        mec1.kF, mec1.kA)\n",
    "areas = asymptotic_areas_first_latency(tres, roots, phiF0, mec1)\n",
    "apdf = asymptotic_pdf(tseq, tres, -1 / roots, areas)"
   ]
  },
  {
   "cell_type": "code",
   "execution_count": 10,
   "metadata": {},
   "outputs": [],
   "source": [
    "# Exact pdf\n",
    "eigvals, gamma00, gamma10, gamma11 = exact_GAMAxx(tres, phiF0, mec1) #tres, pinf, mec\n",
    "epdf = np.zeros(points)\n",
    "for i in range(points):\n",
    "    epdf[i] = (scl.exact_pdf(tseq[i], tres,\n",
    "        roots, areas, eigvals, gamma00, gamma10, gamma11))"
   ]
  },
  {
   "cell_type": "code",
   "execution_count": 11,
   "metadata": {},
   "outputs": [
    {
     "name": "stdout",
     "output_type": "stream",
     "text": [
      "red dashed- ideal pdf; blue dashed- asymptotic pdf; blue solid- exact + asymptotic pdf\n"
     ]
    },
    {
     "data": {
      "image/png": "[encoded data removed]",
      "text/plain": [
       "<Figure size 432x288 with 1 Axes>"
      ]
     },
     "metadata": {
      "needs_background": "light"
     },
     "output_type": "display_data"
    }
   ],
   "source": [
    "plt.plot(tseq, apdf, 'b--');\n",
    "plt.plot(tseq, epdf, 'b-');\n",
    "plt.plot(tseq, ipdf, 'r--');\n",
    "print('red dashed- ideal pdf; blue dashed- asymptotic pdf; blue solid- exact + asymptotic pdf')"
   ]
  },
  {
   "cell_type": "code",
   "execution_count": 12,
   "metadata": {},
   "outputs": [
    {
     "name": "stdout",
     "output_type": "stream",
     "text": [
      "red dashed- ideal pdf; blue dashed- asymptotic pdf; blue solid- exact + asymptotic pdf\n"
     ]
    },
    {
     "data": {
      "image/png": "[encoded data removed]",
      "text/plain": [
       "<Figure size 432x288 with 1 Axes>"
      ]
     },
     "metadata": {
      "needs_background": "light"
     },
     "output_type": "display_data"
    }
   ],
   "source": [
    "plt.plot(tseq, apdf, 'b--');\n",
    "plt.plot(tseq, epdf, 'b-');\n",
    "plt.plot(tseq, ipdf, 'r--');\n",
    "plt.xlim([0.0, 0.001]);\n",
    "print('red dashed- ideal pdf; blue dashed- asymptotic pdf; blue solid- exact + asymptotic pdf')"
   ]
  },
  {
   "cell_type": "code",
   "execution_count": null,
   "metadata": {},
   "outputs": [],
   "source": []
  }
 ],
 "metadata": {
  "kernelspec": {
   "display_name": "Python 3",
   "language": "python",
   "name": "python3"
  },
  "language_info": {
   "codemirror_mode": {
    "name": "ipython",
    "version": 3
   },
   "file_extension": ".py",
   "mimetype": "text/x-python",
   "name": "python",
   "nbconvert_exporter": "python",
   "pygments_lexer": "ipython3",
   "version": "3.7.6"
  }
 },
 "nbformat": 4,
 "nbformat_minor": 4
}
