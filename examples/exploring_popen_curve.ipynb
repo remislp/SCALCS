{
 "cells": [
  {
   "cell_type": "code",
   "execution_count": 1,
   "metadata": {},
   "outputs": [],
   "source": [
    "%matplotlib inline\n",
    "import matplotlib.pyplot as plt"
   ]
  },
  {
   "cell_type": "code",
   "execution_count": 2,
   "metadata": {},
   "outputs": [],
   "source": [
    "import numpy as np\n",
    "import numpy.testing as npt"
   ]
  },
  {
   "cell_type": "code",
   "execution_count": 3,
   "metadata": {},
   "outputs": [],
   "source": [
    "from scalcs import popen\n",
    "from scalcs.samples import samples\n",
    "from scalcs import scalcslib as scl\n",
    "from scalcs import scplotlib as scpl"
   ]
  },
  {
   "cell_type": "code",
   "execution_count": 4,
   "metadata": {},
   "outputs": [],
   "source": [
    "mec = samples.CH82()\n",
    "tres = 0.0\n",
    "pc = popen.PopenCurve(mec, tres)"
   ]
  },
  {
   "cell_type": "code",
   "execution_count": 5,
   "metadata": {},
   "outputs": [],
   "source": [
    "assert len(pc._pilot_conc) == 1000\n",
    "assert len(pc._pilot_popen) == 1000"
   ]
  },
  {
   "cell_type": "code",
   "execution_count": 6,
   "metadata": {},
   "outputs": [],
   "source": [
    "npt.assert_almost_equal(pc.maxPopen, 0.9677419329868882, decimal=16)\n",
    "npt.assert_almost_equal(pc.EC50, 2.403813848843297e-06, decimal=16)\n",
    "#npt.assert_almost_equal(pc.nH, 1.8920149941304116, decimal=16)"
   ]
  },
  {
   "cell_type": "code",
   "execution_count": 7,
   "metadata": {},
   "outputs": [],
   "source": [
    "assert pc.is_not_decreasing\n",
    "assert not pc.is_not_increasing\n",
    "assert pc.is_monotonic\n",
    "assert not pc.is_decreasing\n",
    "assert pc.is_increasing"
   ]
  },
  {
   "cell_type": "code",
   "execution_count": 8,
   "metadata": {},
   "outputs": [],
   "source": [
    "c = pc._pilot_conc\n",
    "y = pc._pilot_popen"
   ]
  },
  {
   "cell_type": "code",
   "execution_count": 10,
   "metadata": {},
   "outputs": [
    {
     "name": "stdout",
     "output_type": "stream",
     "text": [
      "455 2.378901041078891e-06 0.4791007240220817\n",
      "456 2.4569164629827902e-06 0.49386679167250686\n"
     ]
    }
   ],
   "source": [
    "nearest_idx = np.searchsorted(c, pc.EC50, side=\"left\")\n",
    "print(nearest_idx-1, c[nearest_idx-1], y[nearest_idx-1])\n",
    "print(nearest_idx, c[nearest_idx], y[nearest_idx])"
   ]
  },
  {
   "cell_type": "code",
   "execution_count": 12,
   "metadata": {},
   "outputs": [
    {
     "data": {
      "image/png": "[encoded data removed]",
      "text/plain": [
       "<Figure size 432x288 with 1 Axes>"
      ]
     },
     "metadata": {
      "needs_background": "light"
     },
     "output_type": "display_data"
    }
   ],
   "source": [
    "plt.semilogx(c, y, 'b', pc.c50, pc.y50, 'r')\n",
    "plt.ylabel('Popen')\n",
    "plt.xlabel('Concentration');"
   ]
  },
  {
   "cell_type": "code",
   "execution_count": 13,
   "metadata": {},
   "outputs": [
    {
     "name": "stdout",
     "output_type": "stream",
     "text": [
      "1.8337841137841466 23.66144866442831\n"
     ]
    }
   ],
   "source": [
    "slope, intercept = np.polyfit(np.log(pc.c50), np.log(pc.y50/(1-pc.y50)), 1)\n",
    "print(slope, intercept)"
   ]
  },
  {
   "cell_type": "code",
   "execution_count": null,
   "metadata": {},
   "outputs": [],
   "source": []
  }
 ],
 "metadata": {
  "kernelspec": {
   "display_name": "Python 3",
   "language": "python",
   "name": "python3"
  },
  "language_info": {
   "codemirror_mode": {
    "name": "ipython",
    "version": 3
   },
   "file_extension": ".py",
   "mimetype": "text/x-python",
   "name": "python",
   "nbconvert_exporter": "python",
   "pygments_lexer": "ipython3",
   "version": "3.6.6"
  }
 },
 "nbformat": 4,
 "nbformat_minor": 2
}
