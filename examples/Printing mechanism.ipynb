{
 "cells": [
  {
   "cell_type": "code",
   "execution_count": 1,
   "metadata": {},
   "outputs": [],
   "source": [
    "from scalcs import scalcsio"
   ]
  },
  {
   "cell_type": "code",
   "execution_count": 2,
   "metadata": {},
   "outputs": [],
   "source": [
    "filename = '../scalcs/samples/samples.xlsx'\n",
    "mec = scalcsio.load_from_excel_sheet(filename)"
   ]
  },
  {
   "cell_type": "code",
   "execution_count": 3,
   "metadata": {},
   "outputs": [
    {
     "name": "stdout",
     "output_type": "stream",
     "text": [
      "State: name= ARS; statetype= A; conductance= 60.000 pS\n",
      "State: name= A2RS; statetype= A; conductance= 60.000 pS\n",
      "State: name= AR; statetype= B; conductance= 0.000 pS\n",
      "State: name= A2R; statetype= B; conductance= 0.000 pS\n",
      "State: name= R; statetype= C; conductance= 0.000 pS\n"
     ]
    }
   ],
   "source": [
    "for state in mec.States:\n",
    "    print(state)"
   ]
  },
  {
   "cell_type": "code",
   "execution_count": 4,
   "metadata": {},
   "outputs": [
    {
     "name": "stdout",
     "output_type": "stream",
     "text": [
      "Cycle formed of states   A2RS   ARS   AR   A2R   \n",
      "\tMR constrained rate is A2RS to ARS\n"
     ]
    }
   ],
   "source": [
    "for cycle in mec.Cycles:\n",
    "    print(cycle)"
   ]
  },
  {
   "cell_type": "code",
   "execution_count": 5,
   "metadata": {},
   "outputs": [
    {
     "name": "stdout",
     "output_type": "stream",
     "text": [
      "Rate: name= beta1; value= 15; from AR to ARS; \n",
      "Rate: name= beta2; value= 15000; from A2R to A2RS; \n",
      "Rate: name= alpha1; value= 3000; from ARS to AR; \n",
      "Rate: name= alpha2; value= 500; from A2RS to A2R; \n",
      "Rate: name= k(-1); value= 2000; from AR to R; \n",
      "Rate: name= 2k(-2); value= 4000; from A2R to AR; \n",
      "Rate: name= 2k(+1); value= 100000000.0; from R to AR; concentration dependent; \n",
      "Rate: name= k*(+2); value= 500000000.0; from ARS to A2RS; concentration dependent; \n",
      "Rate: name= k(+2); value= 500000000.0; from AR to A2R; concentration dependent; \n",
      "Rate: name= 2k*(-2); value= 0.66667; from A2RS to ARS; concentration dependent; mr constrained; \n"
     ]
    }
   ],
   "source": [
    "for rate in mec.Rates:\n",
    "    print(rate)"
   ]
  },
  {
   "cell_type": "code",
   "execution_count": 6,
   "metadata": {},
   "outputs": [
    {
     "name": "stdout",
     "output_type": "stream",
     "text": [
      "\n",
      "class dcpyps.Mechanism\n",
      "Values of unit rates [1/sec]:\n",
      "0\tFrom AR  \tto ARS    \tbeta1   \t15\n",
      "1\tFrom A2R  \tto A2RS    \tbeta2   \t15000\n",
      "2\tFrom ARS  \tto AR    \talpha1   \t3000\n",
      "3\tFrom A2RS  \tto A2R    \talpha2   \t500\n",
      "4\tFrom AR  \tto R    \tk(-1)   \t2000\n",
      "5\tFrom A2R  \tto AR    \t2k(-2)   \t4000\n",
      "6\tFrom R  \tto AR    \t2k(+1)   \t100000000.0\n",
      "7\tFrom ARS  \tto A2RS    \tk*(+2)   \t500000000.0\n",
      "8\tFrom AR  \tto A2R    \tk(+2)   \t500000000.0\n",
      "9\tFrom A2RS  \tto ARS    \t2k*(-2)   \t0.66667\n",
      "\n",
      "Conductance of state ARS (pS)  =      60\n",
      "\n",
      "Conductance of state A2RS (pS)  =      60\n",
      "\n",
      "Number of open states = 2\n",
      "Number of short-lived shut states (within burst) = 2\n",
      "Number of long-lived shut states (between bursts) = 1\n",
      "Number of desensitised states = 0\n",
      "\n",
      "Number of cycles = 1\n",
      "Cycle 0 is formed of states: A2RS  ARS  AR  A2R  \n",
      "\tforward product = 1.500007500e+16\n",
      "\tbackward product = 1.500000000e+16\n"
     ]
    }
   ],
   "source": [
    "print(mec)"
   ]
  },
  {
   "cell_type": "code",
   "execution_count": 8,
   "metadata": {},
   "outputs": [
    {
     "name": "stdout",
     "output_type": "stream",
     "text": [
      "\n",
      "class dcpyps.Mechanism\n",
      "Values of unit rates [1/sec]:\n",
      "0\tFrom AR  \tto ARS    \tbeta1   \t15\n",
      "1\tFrom A2R  \tto A2RS    \tbeta2   \t15000\n",
      "2\tFrom ARS  \tto AR    \talpha1   \t3000\n",
      "3\tFrom A2RS  \tto A2R    \talpha2   \t500\n",
      "4\tFrom AR  \tto R    \tk(-1)   \t2000\n",
      "5\tFrom A2R  \tto AR    \t2k(-2)   \t4000\n",
      "6\tFrom R  \tto AR    \t2k(+1)   \t100000000.0\n",
      "7\tFrom ARS  \tto A2RS    \tk*(+2)   \t500000000.0\n",
      "8\tFrom AR  \tto A2R    \tk(+2)   \t500000000.0\n",
      "9\tFrom A2RS  \tto ARS    \t2k*(-2)   \t0.6666666666666666\n",
      "\n",
      "Conductance of state ARS (pS)  =      60\n",
      "\n",
      "Conductance of state A2RS (pS)  =      60\n",
      "\n",
      "Number of open states = 2\n",
      "Number of short-lived shut states (within burst) = 2\n",
      "Number of long-lived shut states (between bursts) = 1\n",
      "Number of desensitised states = 0\n",
      "\n",
      "Number of cycles = 1\n",
      "Cycle 0 is formed of states: A2RS  ARS  AR  A2R  \n",
      "\tforward product = 1.500000000e+16\n",
      "\tbackward product = 1.500000000e+16\n"
     ]
    }
   ],
   "source": [
    "mec.update_mr()\n",
    "print(mec)"
   ]
  },
  {
   "cell_type": "code",
   "execution_count": null,
   "metadata": {},
   "outputs": [],
   "source": []
  }
 ],
 "metadata": {
  "kernelspec": {
   "display_name": "Python 3",
   "language": "python",
   "name": "python3"
  },
  "language_info": {
   "codemirror_mode": {
    "name": "ipython",
    "version": 3
   },
   "file_extension": ".py",
   "mimetype": "text/x-python",
   "name": "python",
   "nbconvert_exporter": "python",
   "pygments_lexer": "ipython3",
   "version": "3.6.6"
  }
 },
 "nbformat": 4,
 "nbformat_minor": 2
}
