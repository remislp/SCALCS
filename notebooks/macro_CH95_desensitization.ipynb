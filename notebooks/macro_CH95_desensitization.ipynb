{
 "cells": [
  {
   "cell_type": "markdown",
   "metadata": {},
   "source": [
    "Colquhoun D and Hawkes AG (1995) Desensitisation of N-methyl-D-aspartate receptors: a problem of interpretation PNAS 92, 10327-10329"
   ]
  },
  {
   "cell_type": "code",
   "execution_count": 1,
   "metadata": {},
   "outputs": [],
   "source": [
    "%matplotlib inline\n",
    "import matplotlib.pyplot as plt\n",
    "import sys\n",
    "import math\n",
    "import numpy as np\n",
    "import scipy.integrate as scpi\n",
    "\n",
    "from scalcs import mechanism\n",
    "from scalcs import popen\n",
    "from scalcs import scplotlib as scpl\n",
    "from scalcs import cjumps\n",
    "from scalcs import qmatlib as qml\n",
    "from scalcs.samples import samples"
   ]
  },
  {
   "cell_type": "code",
   "execution_count": 2,
   "metadata": {},
   "outputs": [
    {
     "name": "stdout",
     "output_type": "stream",
     "text": [
      "\n",
      "class dcpyps.Mechanism\n",
      "Values of unit rates [1/sec]:\n",
      "0\tFrom A2R  \tto A2R*    \tbeta   \t46.5\n",
      "1\tFrom A2R*  \tto A2R    \talpha   \t91.6\n",
      "2\tFrom A2D  \tto A2R*    \tdoff   \t1.8\n",
      "3\tFrom A2R*  \tto A2D    \tdon   \t8.4\n",
      "4\tFrom A2R  \tto AR    \t2koff   \t9.4\n",
      "5\tFrom AR  \tto A2R    \tkon   \t5000000.0\n",
      "6\tFrom AR  \tto R    \tkoff   \t4.7\n",
      "7\tFrom R  \tto AR    \t2kon   \t10000000.0\n",
      "\n",
      "Conductance of state A2R* (pS)  =      50\n",
      "\n",
      "Number of open states = 1\n",
      "Number of short-lived shut states (within burst) = 3\n",
      "Number of long-lived shut states (between bursts) = 1\n",
      "Number of desensitised states = 0\n",
      "\n",
      "Number of cycles = 0"
     ]
    }
   ],
   "source": [
    "# LOAD MECHANISM \n",
    "mec = samples.CCCDO()\n",
    "mec.printout(sys.stdout)"
   ]
  },
  {
   "cell_type": "code",
   "execution_count": 3,
   "metadata": {},
   "outputs": [],
   "source": [
    "cmax = 0.001 # max concentrations\n",
    "cb = 0.0 # basal concentrations\n",
    "cpre1 = 0.25e-6\n",
    "cpre0 = 0.0\n",
    "\n",
    "base = 0.1 # time before pulse starts\n",
    "prepulse = 0.6 # time before pulse starts\n",
    "pulse = 0.05\n",
    "cjargs1 = (cb, cpre1, cmax, base, prepulse, pulse)\n",
    "cjargs0 = (cb, cpre0, cmax, base, prepulse, pulse)\n",
    "\n",
    "cjlen = 2 # Record length\n",
    "cjstep = 5e-4 # Sampling step\n",
    "cjfunc = cjumps.pulse_square_with_prepulse\n",
    "\n",
    "t0, c0, P0  = cjumps.calculate_macro_response(mec, cjstep, cjlen, cjfunc, cjargs0, method='direct')\n",
    "Popen0 = np.sum(P0[: mec.kA], axis=0)\n",
    "t1, c1, P1  = cjumps.calculate_macro_response(mec, cjstep, cjlen, cjfunc, cjargs1, method='direct')\n",
    "Popen1 = np.sum(P1[: mec.kA], axis=0)"
   ]
  },
  {
   "cell_type": "code",
   "execution_count": 4,
   "metadata": {},
   "outputs": [
    {
     "name": "stdout",
     "output_type": "stream",
     "text": [
      "maxPopen no prepulse = -1.1997138509286043\n",
      "maxPopen prepulse = -1.1650726790939123\n"
     ]
    },
    {
     "data": {
      "image/png": "[encoded data removed]",
      "text/plain": [
       "<Figure size 360x216 with 1 Axes>"
      ]
     },
     "metadata": {},
     "output_type": "display_data"
    }
   ],
   "source": [
    "fig, ax  = plt.subplots(1,1, figsize=(5,3))\n",
    "ax.plot(t0* 1000, -4*Popen0,'b-', t1 * 1000, -4*Popen1,'r--'); # , t * 1000, c01, 'g-')\n",
    "print('maxPopen no prepulse =', min(-4*Popen0))\n",
    "print('maxPopen prepulse =', min(-4*Popen1))"
   ]
  },
  {
   "cell_type": "code",
   "execution_count": 5,
   "metadata": {},
   "outputs": [
    {
     "data": {
      "image/png": "[encoded data removed]",
      "text/plain": [
       "<Figure size 360x216 with 1 Axes>"
      ]
     },
     "metadata": {},
     "output_type": "display_data"
    }
   ],
   "source": [
    "fig, ax  = plt.subplots(1,1, figsize=(5,3))\n",
    "ax.plot(t0* 1000, -4*Popen0,'b-', t1 * 1000, -4*Popen1,'r--'); # , t * 1000, c01, 'g-')\n",
    "ax.set_xlim(680, 1200);"
   ]
  },
  {
   "cell_type": "code",
   "execution_count": null,
   "metadata": {},
   "outputs": [],
   "source": []
  }
 ],
 "metadata": {
  "kernelspec": {
   "display_name": "Python 3",
   "language": "python",
   "name": "python3"
  },
  "language_info": {
   "codemirror_mode": {
    "name": "ipython",
    "version": 3
   },
   "file_extension": ".py",
   "mimetype": "text/x-python",
   "name": "python",
   "nbconvert_exporter": "python",
   "pygments_lexer": "ipython3",
   "version": "3.6.5"
  }
 },
 "nbformat": 4,
 "nbformat_minor": 2
}
